{
  "nbformat": 4,
  "nbformat_minor": 0,
  "metadata": {
    "colab": {
      "provenance": [],
      "include_colab_link": true
    },
    "kernelspec": {
      "name": "python3",
      "display_name": "Python 3"
    },
    "language_info": {
      "name": "python"
    }
  },
  "cells": [
    {
      "cell_type": "markdown",
      "metadata": {
        "id": "view-in-github",
        "colab_type": "text"
      },
      "source": [
        "<a href=\"https://colab.research.google.com/github/javaclll/glaciallake/blob/main/Glacial%20Lake.ipynb\" target=\"_parent\"><img src=\"https://colab.research.google.com/assets/colab-badge.svg\" alt=\"Open In Colab\"/></a>"
      ]
    },
    {
      "cell_type": "code",
      "execution_count": 20,
      "metadata": {
        "id": "LoJToDiRyxRQ"
      },
      "outputs": [],
      "source": [
        "try:\n",
        "  import matplotlib.pyplot as plt\n",
        "except:\n",
        "  !pip install matplotlip"
      ]
    },
    {
      "cell_type": "code",
      "source": [
        "import torch"
      ],
      "metadata": {
        "id": "9fhOm88szdcs"
      },
      "execution_count": 21,
      "outputs": []
    },
    {
      "cell_type": "code",
      "source": [
        "import matplotlib.pyplot as plt\n"
      ],
      "metadata": {
        "id": "qmixUh9gzn9A"
      },
      "execution_count": 22,
      "outputs": []
    },
    {
      "cell_type": "code",
      "source": [
        "import cv2"
      ],
      "metadata": {
        "id": "dCfuVz89zrZm"
      },
      "execution_count": 23,
      "outputs": []
    },
    {
      "cell_type": "code",
      "source": [
        "import requests\n",
        "\n",
        "def download_file(url, save_path):\n",
        "    response = requests.get(url)\n",
        "    print(response.status_code)\n",
        "    if response.status_code == 200:\n",
        "        with open(save_path, 'wb') as f:\n",
        "            f.write(response.content)\n",
        "        print(f\"File downloaded successfully and saved as: {save_path}\")\n",
        "    else:\n",
        "        print(\"Failed to download the file.\")"
      ],
      "metadata": {
        "id": "iiCV4bn4332_"
      },
      "execution_count": 29,
      "outputs": []
    },
    {
      "cell_type": "code",
      "source": [
        "file_url = \"raw.github.com/javaclll/glaciallake/main/assets/example.png?raw=true\"\n",
        "save_location = \"/assets/image1.png\"\n",
        "\n",
        "download_file(file_url, save_location)"
      ],
      "metadata": {
        "id": "8zPHLi2B38A2",
        "outputId": "2d73966b-f68e-4114-f1d4-e158cf595c00",
        "colab": {
          "base_uri": "https://localhost:8080/"
        }
      },
      "execution_count": 31,
      "outputs": [
        {
          "output_type": "stream",
          "name": "stdout",
          "text": [
            "404\n",
            "Failed to download the file.\n"
          ]
        }
      ]
    }
  ]
}